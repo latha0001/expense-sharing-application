import requests

# Base URL of your Flask app
base_url = 'http://127.0.0.1:5000'

# Example GET request
def test_get_request():
    response = requests.get(f'{base_url}/api/users/lathakadavath026@gmail.com')
    print(f"GET Response Status: {response.status_code}")
    print(f"GET Response Content: {response.json()}")

# Example POST request
def test_post_request():
    data = {
        'email': 'lathakadavath026@gmail.com',
        'name': 'latha',
        'mobile_number': '9398308323'
    }
    response = requests.post(f'{base_url}/api/users', json=data)
    print(f"POST Response Status: {response.status_code}")
    print(f"POST Response Content: {response.json()}")

# Run the tests

if __name__ == '__main__':
    test_post_request()
    test_get_request()
POST Response Status: 201
POST Response Content: {'message': 'User created successfully'}
GET Response Status: 200
GET Response Content: {'_id': '66a770146892a0e109377ced', 'email': 'lathakadavath026@gmail.com', 'mobile_number': '9398308323', 'name': 'latha'}
# Define the expense data for equal split
expense_data_equal = {
    "amount": 4000,
    "payer": "latha",
    "participants": ["Ayank", "raw", "ks", "jake"],
    "split_type": "EQUAL",
    
}

# Send a POST request to add the expense
response = requests.post('http://localhost:5000/api/expenses', json=expense_data_equal)

# Print the response
print(response.json())
{'message': 'Expense added successfully'}
response = requests.get('http://localhost:5000/api/expenses/Hritij')

# Print the response
print(response.json())
{'_id': '66a7701a6892a0e109377cf0', 'amount': 4000, 'participants': ['Ayank', 'raw', 'ks', 'jake'], 'payer': 'Hritij', 'split_type': 'EQUAL', 'splits': []}
# Send a GET request to retrieve the balance sheet
response = requests.get('http://localhost:5000/api/balance_sheet',params={'payer':'Hritij'})

# Print the response
print(response.json())
{'Ayank': 1000, 'jake': 1000, 'ks': 1000, 'raw': 1000}
# Send a GET request to retrieve the balance sheet
response = requests.get('http://localhost:5000/api/balance_sheet_download')

# Print the response
with open('bb.csv', 'w') as f:
    f.write(response.content.decode('utf-8'))
exact

expense_data_equal = {
    "amount": 4000,
    "payer": "Karans",
    "participants": ["Arjun", "Binod", "Ayank", "Raw"],
    "split_type": "EXACT",
    'splits':[2000,1000,1000,0]    
}

# Send a POST request to add the expense
response = requests.post('http://localhost:5000/api/expenses', json=expense_data_equal)

# Print the response
print(response.json())
{'message': 'Expense added successfully'}
response = requests.get('http://localhost:5000/api/balance_sheet',params={'payer':'Karans'})

# Print the response
print(response.json())
{'Arjun': 2000, 'Ayank': 1000, 'Binod': 1000, 'Raw': 0}
